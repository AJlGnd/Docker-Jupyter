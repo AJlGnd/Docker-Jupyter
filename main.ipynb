{
 "cells": [
  {
   "cell_type": "code",
   "execution_count": 3,
   "id": "ade570e4-8f53-4769-bf45-e95939c6d6b2",
   "metadata": {},
   "outputs": [
    {
     "name": "stdout",
     "output_type": "stream",
     "text": [
      "Most Selling Harry Potter Books:\n",
      "1 Harry Potter and the Sorcerer's Stone (Harry Potter, #1)\n",
      "2 Harry Potter and the Prisoner of Azkaban (Harry Potter, #3)\n",
      "3 Harry Potter and the Chamber of Secrets (Harry Potter, #2)\n",
      "4 Harry Potter and the Goblet of Fire (Harry Potter, #4)\n",
      "5 Harry Potter and the Deathly Hallows (Harry Potter, #7)\n",
      "6 Harry Potter and the Order of the Phoenix (Harry Potter, #5)\n",
      "7 Harry Potter and the Half-Blood Prince (Harry Potter, #6)\n",
      "8 Harry Potter Boxset (Harry Potter, #1-7)\n",
      "9 Harry Potter Collection (Harry Potter, #1-6)\n",
      "10 The Magical Worlds of Harry Potter: A Treasury of Myths, Legends, and Fascinating Facts\n",
      "\n",
      "Average rating of Harry Potter books: 4.4910000000000005\n"
     ]
    }
   ],
   "source": [
    "import pandas as pd\n",
    "\n",
    "df = pd.read_csv(\"books.csv\")\n",
    "\n",
    "def clean_and_preprocess(df):\n",
    "    df = df.drop_duplicates()\n",
    "    df = df.dropna()\n",
    "\n",
    "    df['original_publication_year'] = df['original_publication_year'].astype('Int64')\n",
    "    df['isbn13'] = df['isbn13'].astype('Int64')\n",
    "\n",
    "    df = df[(df['average_rating'] >= 0) & (df['average_rating'] <= 5)]\n",
    "\n",
    "    valid_language_codes = ['eng', 'en-US', 'en-GB']\n",
    "    df = df[df['language_code'].isin(valid_language_codes)]\n",
    "\n",
    "    df = df.reset_index(drop=True)\n",
    "\n",
    "    return df\n",
    "\n",
    "cleaned_df = clean_and_preprocess(df)\n",
    "\n",
    "harry_potter_books = cleaned_df[cleaned_df['title'].str.contains('Harry Potter', case=False)]\n",
    "\n",
    "most_selling_hp_books = harry_potter_books.sort_values(by='ratings_count', ascending=False)\n",
    "\n",
    "print(\"Most Selling Harry Potter Books:\")\n",
    "for i, title in enumerate(most_selling_hp_books['title'], start=1):\n",
    "    print(i, title)\n",
    "\n",
    "average_rating_hp = harry_potter_books['average_rating'].mean()\n",
    "print(f\"\\nAverage rating of Harry Potter books: {average_rating_hp}\")\n",
    "\n",
    "# Export the cleaned DataFrame to a new CSV file\n",
    "cleaned_df.to_csv(\"cleaned.csv\", index=False)\n"
   ]
  },
  {
   "cell_type": "code",
   "execution_count": null,
   "id": "a2b8e5a8-12c1-493b-b751-53e94502d3ca",
   "metadata": {},
   "outputs": [],
   "source": []
  }
 ],
 "metadata": {
  "kernelspec": {
   "display_name": "Python 3 (ipykernel)",
   "language": "python",
   "name": "python3"
  },
  "language_info": {
   "codemirror_mode": {
    "name": "ipython",
    "version": 3
   },
   "file_extension": ".py",
   "mimetype": "text/x-python",
   "name": "python",
   "nbconvert_exporter": "python",
   "pygments_lexer": "ipython3",
   "version": "3.11.6"
  }
 },
 "nbformat": 4,
 "nbformat_minor": 5
}
